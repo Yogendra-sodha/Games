{
 "cells": [
  {
   "cell_type": "code",
   "execution_count": 2,
   "id": "a4632ebc",
   "metadata": {},
   "outputs": [],
   "source": [
    "from IPython.display import clear_output\n",
    "\n",
    "def display_board(board):\n",
    "    clear_output()\n",
    "    #only available in jupyter notebook\n",
    "    \n",
    "    print('1',board[1],'|2',board[2],'|3',board[3])\n",
    "    print('4',board[4],'|5',board[5],'|6',board[6])\n",
    "    print('7',board[7],'|8',board[8],'|9',board[9])"
   ]
  },
  {
   "cell_type": "code",
   "execution_count": 3,
   "id": "219cb179",
   "metadata": {},
   "outputs": [],
   "source": [
    "# test_board = ['X','O','X','O','X','O','X','O','X']\n",
    "# display_board(test_board)"
   ]
  },
  {
   "cell_type": "code",
   "execution_count": 4,
   "id": "168c8121",
   "metadata": {},
   "outputs": [],
   "source": [
    "def player_input():\n",
    "    marker_choice = 'wrong'\n",
    "    while marker_choice not in ['X','O']:\n",
    "        marker_choice = input('Player 1 Choose your marker X or O: ').upper()\n",
    "    \n",
    "    if marker_choice == 'X':\n",
    "        return ('X','O')\n",
    "    else:\n",
    "        return ('O','X')\n",
    "    pass"
   ]
  },
  {
   "cell_type": "code",
   "execution_count": 5,
   "id": "6de2f85e",
   "metadata": {},
   "outputs": [
    {
     "name": "stdout",
     "output_type": "stream",
     "text": [
      "Player 1 Choose your marker X or O: x\n"
     ]
    },
    {
     "data": {
      "text/plain": [
       "'X'"
      ]
     },
     "execution_count": 5,
     "metadata": {},
     "output_type": "execute_result"
    }
   ],
   "source": [
    "player1,player2 = player_input()\n",
    "player1"
   ]
  },
  {
   "cell_type": "code",
   "execution_count": 6,
   "id": "5f14e7fa",
   "metadata": {},
   "outputs": [],
   "source": [
    "def place_marker(board, marker, position):\n",
    "    board[position]= marker"
   ]
  },
  {
   "cell_type": "code",
   "execution_count": 7,
   "id": "3935a11a",
   "metadata": {},
   "outputs": [],
   "source": [
    "place_marker(test_board,'x',1)\n",
    "display_board(test_board)"
   ]
  },
  {
   "cell_type": "code",
   "execution_count": 8,
   "id": "a3a546b7",
   "metadata": {},
   "outputs": [],
   "source": [
    "def win_check(board,mark):\n",
    "    return(board[1] == mark and board[2] == mark and board[3] == mark or\n",
    "           board[4] == mark and board[5] == mark and board[6] == mark or\n",
    "           board[7] == mark and board[8] == mark and board[9] == mark or\n",
    "           board[1] == mark and board[5] == mark and board[9] == mark or\n",
    "           board[3] == mark and board[5] == mark and board[7] == mark or\n",
    "           board[9] == mark and board[5] == mark and board[1] == mark or\n",
    "           board[9] == mark and board[6] == mark and board[3] == mark or\n",
    "           board[8] == mark and board[5] == mark and board[2] == mark or\n",
    "           board[7] == mark and board[4] == mark and board[1] == mark)"
   ]
  },
  {
   "cell_type": "code",
   "execution_count": 9,
   "id": "1027b386",
   "metadata": {},
   "outputs": [],
   "source": [
    "import random\n",
    "def choose_first():\n",
    "    if random.randint(0,1):\n",
    "        return 'player1'\n",
    "    else:\n",
    "        return 'player2'\n",
    "    pass"
   ]
  },
  {
   "cell_type": "code",
   "execution_count": 10,
   "id": "5d65a482",
   "metadata": {},
   "outputs": [],
   "source": [
    "def space_check(board, position):\n",
    "    return board[position] == ' '"
   ]
  },
  {
   "cell_type": "code",
   "execution_count": 11,
   "id": "c5fc19f4",
   "metadata": {},
   "outputs": [],
   "source": [
    "def full_board_check(board):\n",
    "    for i in range(1,10):\n",
    "        if space_check(board,i):\n",
    "            return False\n",
    "    return True"
   ]
  },
  {
   "cell_type": "code",
   "execution_count": 12,
   "id": "91398d07",
   "metadata": {},
   "outputs": [],
   "source": [
    "def player_choice(test_board):\n",
    "    position = 0 \n",
    "    \n",
    "    while position not in [1,2,3,4,5,6,7,8,9] or not space_check(test_board,position):\n",
    "        position = int(input(\"Enter a position from 1 - 9: \"))\n",
    "        \n",
    "    return position"
   ]
  },
  {
   "cell_type": "code",
   "execution_count": 13,
   "id": "ef854f08",
   "metadata": {},
   "outputs": [],
   "source": [
    "def replay():\n",
    "    return input('Do you want to play again? Enter Yes or No: ').lower().startswith('y')"
   ]
  },
  {
   "cell_type": "code",
   "execution_count": 15,
   "id": "c25bea63",
   "metadata": {},
   "outputs": [
    {
     "name": "stdout",
     "output_type": "stream",
     "text": [
      "1 X |2 O |3 X\n",
      "4 X |5 O |6 O\n",
      "7 O |8 X |9 O\n",
      "Game is draw\n",
      "Do you want to play again? Enter Yes or No: n\n"
     ]
    }
   ],
   "source": [
    "print('Welcome to Tic Tac Toe!')\n",
    "\n",
    "while True:\n",
    "    test_board = [' ']*10\n",
    "    player1_marker,player2_marker = player_input()\n",
    "    turn = choose_first()\n",
    "    print(turn + ' will go first')\n",
    "    print(player1_marker,player2_marker)\n",
    "    \n",
    "    ready = input('Are you ready to play Y or N ')\n",
    "    if ready.lower()[0] == 'y':\n",
    "        game_on = True\n",
    "    else:\n",
    "        game_on = False\n",
    "    \n",
    "    while game_on:\n",
    "        if turn == 'player1':\n",
    "            \n",
    "            display_board(test_board)\n",
    "            position = player_choice(test_board)\n",
    "            place_marker(test_board,player1_marker,position)\n",
    "            \n",
    "            if win_check(test_board,player1_marker):\n",
    "                display_board(test_board)\n",
    "                print(\"Player 1 has won the game!\")\n",
    "                game_on = False\n",
    "            else:\n",
    "                if full_board_check(test_board):\n",
    "                    display_board(test_board)\n",
    "                    print('Game is draw')\n",
    "                    break\n",
    "                else:\n",
    "                    turn = 'player2'       \n",
    "        else:\n",
    "            display_board(test_board)\n",
    "            position = player_choice(test_board)\n",
    "            place_marker(test_board,player2_marker,position)\n",
    "                \n",
    "            if win_check(test_board,player2_marker):\n",
    "                display_board(test_board)\n",
    "                print('Player 2 has won the game')\n",
    "                game_on = False\n",
    "            else:\n",
    "                if full_board_check(test_board):\n",
    "                    display_board(test_board)\n",
    "                    print('Game is draw')\n",
    "                    break\n",
    "                else:\n",
    "                    turn = 'player1'\n",
    "    \n",
    "    if not replay():\n",
    "        break   "
   ]
  },
  {
   "cell_type": "markdown",
   "id": "1ce7b774",
   "metadata": {},
   "source": [
    "### "
   ]
  }
 ],
 "metadata": {
  "kernelspec": {
   "display_name": "Python 3 (ipykernel)",
   "language": "python",
   "name": "python3"
  },
  "language_info": {
   "codemirror_mode": {
    "name": "ipython",
    "version": 3
   },
   "file_extension": ".py",
   "mimetype": "text/x-python",
   "name": "python",
   "nbconvert_exporter": "python",
   "pygments_lexer": "ipython3",
   "version": "3.9.7"
  }
 },
 "nbformat": 4,
 "nbformat_minor": 5
}

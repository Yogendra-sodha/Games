{
 "cells": [
  {
   "cell_type": "code",
   "execution_count": null,
   "id": "eff6a47d",
   "metadata": {},
   "outputs": [],
   "source": [
    "def win_check(board,mark):\n",
    "    return(board[1] == mark and board[2] == mark and board[3] == mark or\n",
    "           board[4] == mark and board[5] == mark and board[6] == mark or\n",
    "           board[7] == mark and board[8] == mark and board[9] == mark or\n",
    "           board[1] == mark and board[5] == mark and board[9] == mark or\n",
    "           board[3] == mark and board[5] == mark and board[7] == mark or\n",
    "           board[9] == mark and board[5] == mark and board[1] == mark or\n",
    "           board[9] == mark and board[6] == mark and board[3] == mark or\n",
    "           board[8] == mark and board[5] == mark and board[2] == mark or\n",
    "           board[7] == mark and board[4] == mark and board[1] == mark)"
   ]
  }
 ],
 "metadata": {
  "kernelspec": {
   "display_name": "Python 3 (ipykernel)",
   "language": "python",
   "name": "python3"
  },
  "language_info": {
   "codemirror_mode": {
    "name": "ipython",
    "version": 3
   },
   "file_extension": ".py",
   "mimetype": "text/x-python",
   "name": "python",
   "nbconvert_exporter": "python",
   "pygments_lexer": "ipython3",
   "version": "3.9.7"
  }
 },
 "nbformat": 4,
 "nbformat_minor": 5
}

{
 "cells": [
  {
   "cell_type": "code",
   "execution_count": 1,
   "id": "e278d23b",
   "metadata": {},
   "outputs": [],
   "source": [
    "from IPython.display import clear_output\n",
    "\n",
    "def display_board(board):\n",
    "    clear_output()\n",
    "    #only available in jupyter notebook\n",
    "    \n",
    "    print('1',board[1],'|2',board[2],'|3',board[3])\n",
    "    print('4',board[4],'|5',board[5],'|6',board[6])\n",
    "    print('7',board[7],'|8',board[8],'|9',board[9])"
   ]
  },
  {
   "cell_type": "code",
   "execution_count": 2,
   "id": "b10d4076",
   "metadata": {},
   "outputs": [
    {
     "name": "stdout",
     "output_type": "stream",
     "text": [
      "1 X |2 O |3 X\n",
      "4 O |5 X |6 O\n",
      "7 X |8 O |9 X\n"
     ]
    }
   ],
   "source": [
    "test_board = ['#','X','O','X','O','X','O','X','O','X']\n",
    "display_board(test_board)"
   ]
  }
 ],
 "metadata": {
  "kernelspec": {
   "display_name": "Python 3 (ipykernel)",
   "language": "python",
   "name": "python3"
  },
  "language_info": {
   "codemirror_mode": {
    "name": "ipython",
    "version": 3
   },
   "file_extension": ".py",
   "mimetype": "text/x-python",
   "name": "python",
   "nbconvert_exporter": "python",
   "pygments_lexer": "ipython3",
   "version": "3.9.7"
  }
 },
 "nbformat": 4,
 "nbformat_minor": 5
}

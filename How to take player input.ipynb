{
 "cells": [
  {
   "cell_type": "code",
   "execution_count": null,
   "id": "2ecaac22",
   "metadata": {},
   "outputs": [],
   "source": [
    "def player_input():\n",
    "    marker_choice = 'wrong'\n",
    "    while marker_choice not in ['X','O']:\n",
    "        marker_choice = input('Player 1 Choose your marker X or O: ').upper()\n",
    "    \n",
    "    if marker_choice == 'X':\n",
    "        return ('X','O')\n",
    "    else:\n",
    "        return ('O','X')\n",
    "    pass"
   ]
  },
  {
   "cell_type": "code",
   "execution_count": null,
   "id": "7c8b64b2",
   "metadata": {},
   "outputs": [],
   "source": [
    "player1,player2 = player_input()\n",
    "player1"
   ]
  }
 ],
 "metadata": {
  "kernelspec": {
   "display_name": "Python 3 (ipykernel)",
   "language": "python",
   "name": "python3"
  },
  "language_info": {
   "codemirror_mode": {
    "name": "ipython",
    "version": 3
   },
   "file_extension": ".py",
   "mimetype": "text/x-python",
   "name": "python",
   "nbconvert_exporter": "python",
   "pygments_lexer": "ipython3",
   "version": "3.9.7"
  }
 },
 "nbformat": 4,
 "nbformat_minor": 5
}

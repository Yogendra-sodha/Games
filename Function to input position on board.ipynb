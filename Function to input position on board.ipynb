{
 "cells": [
  {
   "cell_type": "code",
   "execution_count": null,
   "id": "04ad5e35",
   "metadata": {},
   "outputs": [],
   "source": [
    "def player_choice(test_board):\n",
    "    position = 0 \n",
    "    \n",
    "    while position not in [1,2,3,4,5,6,7,8,9] or not space_check(test_board,position):\n",
    "        position = int(input(\"Enter a position from 1 - 9: \"))\n",
    "        \n",
    "    return position"
   ]
  }
 ],
 "metadata": {
  "kernelspec": {
   "display_name": "Python 3 (ipykernel)",
   "language": "python",
   "name": "python3"
  },
  "language_info": {
   "codemirror_mode": {
    "name": "ipython",
    "version": 3
   },
   "file_extension": ".py",
   "mimetype": "text/x-python",
   "name": "python",
   "nbconvert_exporter": "python",
   "pygments_lexer": "ipython3",
   "version": "3.9.7"
  }
 },
 "nbformat": 4,
 "nbformat_minor": 5
}
